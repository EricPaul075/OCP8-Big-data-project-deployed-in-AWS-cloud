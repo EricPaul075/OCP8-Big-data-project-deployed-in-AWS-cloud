{
 "cells": [
  {
   "cell_type": "markdown",
   "id": "ffe3ef05-335a-409b-b2e5-3fd719569757",
   "metadata": {},
   "source": [
    "# Projet 8 - <font color='green'>Notebook</font> - Déployez un modèle dans le cloud\n",
    "Dans ce projet, nous mettons en œuvre une architecture et une application big data dans le but de construire un moteur de classification d'images de fruits.\n",
    "Le [jeu de données](https://www.kaggle.com/moltean/fruits) comprend des images de différents fruits sous différents angles.\n",
    "La mission consiste à prendre en considération le volume important de données pour réaliser une application en pyspark à exécuter dans le cloud sur une architecture big data.\n",
    "L'architecture big data est mise en place sur AWS en utilisant S3 pour le stockage des données et un cluster EMR pour l'exécution de l'application.\n",
    "L'application réalise l'acquisition des images et leur prétraitement comprenant l'extraction des features et la réduction de dimension."
   ]
  },
  {
   "cell_type": "markdown",
   "id": "bbb7b039-6ae1-4da3-8c1e-77499c240fcc",
   "metadata": {},
   "source": [
    "<a id=\"toc\"></a>\n",
    "**SOMMAIRE**\n",
    "\n",
    "-  [Préparation du cluster](#cluster)\n",
    "-  [Configuration d'exécution](#config)\n",
    "-  [Session spark et architecture du cluster](#session)\n",
    "-  [Lecture des données d'entrée](#read)\n",
    "-  [Fonctions de création du modèle CNN et d'extraction des features](#cnn)\n",
    "-  [Extraction itérative des features des images](#features)\n",
    "-  [Enregistrement du dataset](#dataset)\n",
    "-  [Standardisation des features de X](#standardization)\n",
    "-  [Réduction de dimension avec un PCA](#pca)\n",
    "\n",
    "&nbsp;"
   ]
  },
  {
   "cell_type": "markdown",
   "id": "8b17c5b6-ae2b-4613-a354-3039cd16760c",
   "metadata": {},
   "source": [
    "<a id=\"cluster\"></a>\n",
    "### Préparation du cluster\n",
    "\n",
    "Le cluster cible consiste en une architecture Big Data EMR sur AWS avec les caractéristiques suivantes:\n",
    "- Localisation dans la région eu-west-3 (Paris) afin que la proximité minimise le temps de latence.\n",
    "- Gestion de la sécurité:\n",
    "  - Compte IAM mis en place, dont les crédendials figurent dans le fichier USER/.aws/credentials pour l'exécution en mode local (PC Windows 10 en stand alone).\n",
    "  - Paire de clés EC2 créée au prélable sur la région.\n",
    "  \n",
    "  &nbsp;\n",
    "- Version EMR 6.8.0, la plus récente, afin de disposer des versions les plus récentes des libraires Hadoop 3.2.1 et spark 3.3.0.\n",
    "- Afin d'exécuter ce notebook, les librairies JupyterEnterpriseGateway 2.1.0 et Livy 0.7.1 sont également incluses.\n",
    "- L'architecture du cluster est basée sur des instances uniformes à usage général et constituée de :\n",
    "  - <font color='green'>1 nœud maitre</font> : m5.xlarge constitué de 4 cœurs virtuels, 16GB de RAM et 64 GB de stockage local (EBS) ;\n",
    "  - <font color='green'>2 nœuds exclaves</font>, dont pour chacune de ces instances d'exécution: m5.xlarge constitué de 4 cœurs virtuels, 16GB de RAM et 64 GB de stockage local (EBS).\n",
    "  \n",
    "  Notons que cette architecture est surdimensionnée pour les seules opérations de ce notebook, mais qu'elle correspond à la plus petite configuration à usage général disponible sur la région et permettra de traiter un nombre important d'images avec un nœud maitre pouvant disposant d'un volume mémoire important pour les opérations de sérialisation et des nœud d'exécution évolutifs par mise à l'échelle horizontale.\n",
    " \n",
    "- OS Amazon Linux (red hat).\n",
    "- Amorçage du cluster pour installer des librairies complémentaires sur chaque instance (fichier bootstrap.sh).\n"
   ]
  },
  {
   "cell_type": "markdown",
   "id": "327e8850-a09b-4c9f-b293-bfeb97b515f9",
   "metadata": {},
   "source": [
    "*[retour SOMMAIRE](#toc)*\n",
    "\n",
    "&nbsp;"
   ]
  },
  {
   "cell_type": "markdown",
   "id": "cccd33c5-3376-4751-8dcc-76cb06dc5574",
   "metadata": {},
   "source": [
    "<a id=\"config\"></a>\n",
    "### Configuration d'exécution\n",
    "\n",
    "Utilisation de 2 constantes pour spécifier cette configuration :\n",
    "- Mode local (PC windows 10 en stand alone) vs le mode d'exécution sur AWS EMR\n",
    "- Mode debug: dans ce mode, le nombre d'images et de features sont réduits pour exécuter rapidement l'application et investiguer notamment des configurations de gestion mémoire du cluster (nota: la configuration matérielle des instances permet d'aller jusqu'à au moins 10000 features)."
   ]
  },
  {
   "cell_type": "code",
   "execution_count": 1,
   "id": "17b27b09-1785-4900-abb4-5a6956310473",
   "metadata": {
    "pycharm": {
     "is_executing": true
    }
   },
   "outputs": [
    {
     "name": "stdout",
     "output_type": "stream",
     "text": [
      "Exécution du script en local=True et debug=False\n"
     ]
    }
   ],
   "source": [
    "# Configuration d'exécution\n",
    "LOCAL = True  # False si exécution sur aws EMR\n",
    "DEBUG = False  # Mode debug\n",
    "print(f\"Exécution du script en local={LOCAL} et debug={DEBUG}\")"
   ]
  },
  {
   "cell_type": "markdown",
   "id": "0c85c52d-70c3-41fb-89f9-cafefdd61b3c",
   "metadata": {},
   "source": [
    "*[retour SOMMAIRE](#toc)*\n",
    "\n",
    "&nbsp;"
   ]
  },
  {
   "cell_type": "markdown",
   "id": "423cc56b-c11a-456f-b0f8-8cbacf93742f",
   "metadata": {},
   "source": [
    "<a id=\"session\"></a>\n",
    "### Session spark et architecture du cluster\n",
    "\n",
    "Il s'agit de la création de la SparkSession en fonction de l'architecture cible du cluster AWS, en spécifiant certains paramètres importants de configuration, puis utilisation du sparkContext pour régler le niveau de verbosité de l'application.\n",
    "\n",
    "Les paramètres de [configuration](https://spark.apache.org/docs/3.3.0/configuration.html#content):\n",
    "- '<font color='green'>spark.driver.maxResultSize</font>' est fixé par défaut à 1GB, ce qui peut devenir insuffisant pour effectuer des traitements nécessitant la sérialisation de gros dataframes (ex: PCA avec un grand nombre de features) ; sa valeur ne peut pas être modifiée dans l'application, ce qui rend nécessaire de le spécifier dans 'SPARK_HOME/conf/spark-defaults.conf' ou au lancement de l'application avec la ligne de commande 'spark-submit --conf spark.driver.maxResultSize=0 main.py' (si l'application est lancée depuis le script python main.py). Dans l'environnement EMR avec AWS linux, la modification de ce paramètre s'effectue sur le nœud maitre avec 'sudo vim /etc/spark/conf/spark-defaults.conf' en ajoutant 'spark.driver.maxResultSize  0'. La valeur '0' permet de ne pas limiter sa valeur, avec le risque de rencontrer une erreur si la taille d'une donnée sérialisée sur le nœud maitre fait dépasser sa capacité mémoire ; l'alternative consisterait à lui donner une valeur fixée, par exemple la même que celle donnée à 'spark.driver.memory'.\n",
    "\n",
    "  Si le fichier 'spark-defaults.conf' n'existe pas encore :\n",
    "  - *sur le cluster AWS*, exécuter un premier 'spark-submit' crée ce fichier qu'on peut ensuite modifier ,\n",
    "  - *en local*, l'installation de pyspark avec pip n'installe pas ce fichier et il faut créer le répertoire 'conf' et y placer le fichier 'spark-defaults.conf' ;\n",
    "  \n",
    "  &nbsp;\n",
    "- '<font color='green'>spark.driver.memory</font>' peut être à régler pour permettre au driver de disposer de suffisamment de mémoire pour sérialiser (collect) les données. Sa valeur maximum est limitée à la mémoire maximum disponible pour spark, fixée par 'spark.memory.fraction'(proportion de la RAM du nœud maitre: Java heap memory-0.3GB), dont la valeur par défaut est 0.6. Nous recherchons pour ce projet une valeur maximale afin de tirer partie de la RAM disponible pour gérer un dataset aussi volumineux que possible.\n",
    "&nbsp;\n",
    "- '<font color='green'>spark.executor.memory</font>' et '<font color='green'>spark.executor.cores</font>', valeurs par instance (nœud d'exécution), qui dépend du nombre de cœurs et de la RAM disponible par exécuteur. Nous recherchons une valeur relativement modeste pour 'spark.executor.memory' afin que lors d'une mise à l'échelle nous puissions maximiser la parallélisation en fonction du nombre de vcpu disponibles.\n",
    "\n",
    "&nbsp;\n",
    "Nous configurons par ailleurs 'Apache arrow' ainsi que recommandé pour l'utilisation de Pandas et Numpy et de vectorisation UDFs (User Defined Functions)."
   ]
  },
  {
   "cell_type": "code",
   "execution_count": 2,
   "id": "75edf59f-43db-4a60-bd26-6b70c43af3e4",
   "metadata": {},
   "outputs": [
    {
     "name": "stdout",
     "output_type": "stream",
     "text": [
      "Création d'une session spark avec la configuration:\n",
      "('spark.driver.host', 'host.docker.internal')\n",
      "('spark.app.id', 'local-1666619260973')\n",
      "('spark.driver.extraJavaOptions', '-XX:+IgnoreUnrecognizedVMOptions --add-opens=java.base/java.lang=ALL-UNNAMED --add-opens=java.base/java.lang.invoke=ALL-UNNAMED --add-opens=java.base/java.lang.reflect=ALL-UNNAMED --add-opens=java.base/java.io=ALL-UNNAMED --add-opens=java.base/java.net=ALL-UNNAMED --add-opens=java.base/java.nio=ALL-UNNAMED --add-opens=java.base/java.util=ALL-UNNAMED --add-opens=java.base/java.util.concurrent=ALL-UNNAMED --add-opens=java.base/java.util.concurrent.atomic=ALL-UNNAMED --add-opens=java.base/sun.nio.ch=ALL-UNNAMED --add-opens=java.base/sun.nio.cs=ALL-UNNAMED --add-opens=java.base/sun.security.action=ALL-UNNAMED --add-opens=java.base/sun.util.calendar=ALL-UNNAMED --add-opens=java.security.jgss/sun.security.krb5=ALL-UNNAMED')\n",
      "('spark.app.submitTime', '1666619259951')\n",
      "('spark.sql.warehouse.dir', 'file:/D:/Onedrive/Formation/Data%20science/Openclassroom/Projects/P8/spark-warehouse')\n",
      "('spark.app.startTime', '1666619260064')\n",
      "('spark.executor.id', 'driver')\n",
      "('spark.app.name', 'ocp8')\n",
      "('spark.executor.cores', '4')\n",
      "('spark.executor.memory', '1g')\n",
      "('spark.rdd.compress', 'True')\n",
      "('spark.executor.instances', '2')\n",
      "('spark.executor.extraJavaOptions', '-XX:+IgnoreUnrecognizedVMOptions --add-opens=java.base/java.lang=ALL-UNNAMED --add-opens=java.base/java.lang.invoke=ALL-UNNAMED --add-opens=java.base/java.lang.reflect=ALL-UNNAMED --add-opens=java.base/java.io=ALL-UNNAMED --add-opens=java.base/java.net=ALL-UNNAMED --add-opens=java.base/java.nio=ALL-UNNAMED --add-opens=java.base/java.util=ALL-UNNAMED --add-opens=java.base/java.util.concurrent=ALL-UNNAMED --add-opens=java.base/java.util.concurrent.atomic=ALL-UNNAMED --add-opens=java.base/sun.nio.ch=ALL-UNNAMED --add-opens=java.base/sun.nio.cs=ALL-UNNAMED --add-opens=java.base/sun.security.action=ALL-UNNAMED --add-opens=java.base/sun.util.calendar=ALL-UNNAMED --add-opens=java.security.jgss/sun.security.krb5=ALL-UNNAMED')\n",
      "('spark.driver.memory', '8g')\n",
      "('spark.serializer.objectStreamReset', '100')\n",
      "('spark.master', 'local[*]')\n",
      "('spark.submit.pyFiles', '')\n",
      "('spark.submit.deployMode', 'client')\n",
      "('spark.ui.showConsoleProgress', 'true')\n",
      "('spark.driver.cores', '1')\n",
      "('spark.driver.port', '58642')\n"
     ]
    }
   ],
   "source": [
    "import pyspark\n",
    "from pyspark.sql import SparkSession\n",
    "spark = SparkSession \\\n",
    "    .builder \\\n",
    "    .config('spark.driver.cores', '1') \\\n",
    "    .config('spark.driver.memory', '8g') \\\n",
    "    .config('spark.executor.instances', '2') \\\n",
    "    .config('spark.executor.cores', '4') \\\n",
    "    .config('spark.executor.memory', '1g') \\\n",
    "    .appName('ocp8') \\\n",
    "    .getOrCreate()\n",
    "prev = spark.conf.get(\"spark.sql.execution.arrow.pyspark.enabled\")  # get previous conf\n",
    "spark.conf.set(\"spark.sql.execution.arrow.pyspark.enabled\", True)  # Arrow optimization for pyspark.sql.DataFrame\n",
    "conf = spark.sparkContext.getConf().getAll()\n",
    "print(\"Création d'une session spark avec la configuration:\")\n",
    "for item in conf:\n",
    "    print(item)\n",
    "sc = spark.sparkContext\n",
    "sc.setLogLevel('ERROR')"
   ]
  },
  {
   "cell_type": "markdown",
   "id": "d2895d86-a89f-473a-a88f-68d4171dfaa6",
   "metadata": {},
   "source": [
    "*[retour SOMMAIRE](#toc)*\n",
    "\n",
    "&nbsp;"
   ]
  },
  {
   "cell_type": "markdown",
   "id": "fec79bfb-b776-44e1-ac05-43473ead27cd",
   "metadata": {},
   "source": [
    "<a id=\"read\"></a>\n",
    "### Lecture des données d'entrée\n",
    "\n",
    "Les images sont stockées sur S3, compartiment \"ocp8project\", répertoire \"input_data/\" et chaque fruit fait l'objet d'un répertoire à son nom contenant les images de ce fruit."
   ]
  },
  {
   "cell_type": "code",
   "execution_count": 3,
   "id": "462fd684-8485-4e65-a81b-37d05c86b663",
   "metadata": {},
   "outputs": [
    {
     "name": "stdout",
     "output_type": "stream",
     "text": [
      "Structure de stockage des données dans S3:\n",
      "AWS_S3_BUCKET=ocp8project\n",
      "INPUT_DATA_FOLDER=input_data/\n",
      "OUTPUT_DATA_FOLDER=output_data/\n",
      "Nombre d'objets dans s3://ocp8project/input_data/: 91\n"
     ]
    }
   ],
   "source": [
    "import boto3\n",
    "\n",
    "# Structure de stockage du projet dans S3\n",
    "print(\"Structure de stockage des données dans S3:\")\n",
    "AWS_S3_BUCKET = \"ocp8project\"\n",
    "print(f\"AWS_S3_BUCKET={AWS_S3_BUCKET}\")\n",
    "INPUT_DATA_FOLDER = \"input_data/\"\n",
    "print(f\"INPUT_DATA_FOLDER={INPUT_DATA_FOLDER}\")\n",
    "OUTPUT_DATA_FOLDER = \"output_data/\"\n",
    "print(f\"OUTPUT_DATA_FOLDER={OUTPUT_DATA_FOLDER}\")\n",
    "\n",
    "# Création d'un client pour l'accès à S3\n",
    "s3_client = boto3.client(\"s3\")\n",
    "\n",
    "# Lecture des données d'entrées\n",
    "objects = s3_client.list_objects_v2(Bucket=AWS_S3_BUCKET, Prefix=INPUT_DATA_FOLDER)\n",
    "n_objects = objects['KeyCount']\n",
    "print(f\"Nombre d'objets dans s3://{AWS_S3_BUCKET}/{INPUT_DATA_FOLDER}: {n_objects}\")\n",
    "if n_objects<=1:\n",
    "    print(\"Erreur: le répertoire des données d'entrée est vide\")"
   ]
  },
  {
   "cell_type": "markdown",
   "id": "86fd9e73-d4ac-47e9-b3bf-3b94fd9979df",
   "metadata": {},
   "source": [
    "*[retour SOMMAIRE](#toc)*\n",
    "\n",
    "&nbsp;"
   ]
  },
  {
   "cell_type": "markdown",
   "id": "611581bf-f361-4aa4-8d28-102d0e02dda5",
   "metadata": {},
   "source": [
    "<a id=\"cnn\"></a>\n",
    "### Fonctions de création du modèle CNN et d'extraction des features\n",
    "\n",
    "Nous utilisons le modèle EfficientNet pour extraire les features avec du transfer-learning, en utilisant la totalité du modèle à l'exception de la couche de classification.\n",
    "Nous y ajoutons une couche 'GlobalAveragePooling2D' afin de réduire chaque feature de la dimension 7*7 à 1. Le nombre de features est donc de 1280.\n",
    "La fonction d'extraction des features de chaque image utilise en entrée l'image telle que chargée par PIL et produit en sortie un vecteur pyspark.ml.linalg.Vectors."
   ]
  },
  {
   "cell_type": "code",
   "execution_count": 4,
   "id": "ec0802d0-999e-4eab-85e7-efe5b7840b06",
   "metadata": {},
   "outputs": [],
   "source": [
    "from keras.applications import EfficientNetB0\n",
    "from keras.layers import GlobalAveragePooling2D\n",
    "from keras.models import Model\n",
    "\n",
    "def get_model_from_EfficientNetB0(layer='top_activation'):\n",
    "    \"\"\"\n",
    "    Contruit le modèle basé sur EfficientNetB0 jusqu'à la couche\n",
    "        spécifiée, selon le niveau attendu des features à extraire,\n",
    "        puis ajoute une couche GlobalAveragePooling2D pour prendre\n",
    "        la valeur moyenne (de la matrice 7*7) de chaque feature.\n",
    "    :param layer: str, nom de la dernière couche keras layer du\n",
    "        modèle EfficientNetB0 à utiliser, par défaut la dernière\n",
    "        couche avant celle de classification.\n",
    "    :return: keras.models.Model, modèle produisant les features.\n",
    "    \"\"\"\n",
    "    # Modèle de base EfficientNet sans la couche de classification\n",
    "    base_model = EfficientNetB0(weights=\"imagenet\", include_top=False, input_shape=(224, 224, 3))\n",
    "    #print(base_model.summary())  # Donne les noms de chaque layer\n",
    "\n",
    "    # Sélection du modèle jusqu'à une couche spécifique selon le niveau  attendu des features\n",
    "    x = base_model.get_layer(layer).output\n",
    "    x = GlobalAveragePooling2D()(x)\n",
    "    model = Model(inputs=base_model.input, outputs=x)\n",
    "    return model"
   ]
  },
  {
   "cell_type": "code",
   "execution_count": 5,
   "id": "f9744156-a035-41dd-8a2d-43f1e2c93cef",
   "metadata": {},
   "outputs": [],
   "source": [
    "from keras.utils import load_img, img_to_array\n",
    "from keras.applications.efficientnet import preprocess_input\n",
    "from pyspark.ml.linalg import Vectors\n",
    "\n",
    "def feature_extraction(model, img_path=None, img=None, debug=False, debug_feat_size=10):\n",
    "    \"\"\"\n",
    "    Extrait les features de l'image avec le modèle (1280 features avec\n",
    "        EfficientNetB0).\n",
    "    :param model: keras.models.Model, modèle produisant les features,\n",
    "        issu de la fonction get_model_from_EfficientNetB0.\n",
    "    :param img_path: str, chemin de l'image dont les features seront\n",
    "        extraites par la fonction.\n",
    "    :param img: PIL image au format (224, 224).\n",
    "    :param debug: bool, mode debug, default=False.\n",
    "    :param debug_feat_size: int, dimension du vecteur de sortie pour\n",
    "        le mode debug, défault=10.\n",
    "    :return: pyspark.ml.linalg.Vectors, vecteur 1D des features de\n",
    "        l'image.\n",
    "    \"\"\"\n",
    "    if img_path is not None:\n",
    "        # Charge et redim filtre par défaut\n",
    "        img = load_img(img_path, target_size=(224, 224), keep_aspect_ratio=True)\n",
    "    elif img is None:\n",
    "        print('Aucune image spécifiée en entrée')\n",
    "        return None\n",
    "    img = img_to_array(img)  # Conversion de l'image en np.array\n",
    "    img = img.reshape((1, img.shape[0], img.shape[1], img.shape[2]))  # Reshape format CNN\n",
    "    img = preprocess_input(img)  # Preprocessing efficientnet\n",
    "    # Prédiction + reshape 1D + format liste + Vectorisation\n",
    "    features = Vectors.dense(model.predict(img).ravel().tolist()[:debug_feat_size]) \\\n",
    "        if debug else Vectors.dense(model.predict(img).ravel().tolist())\n",
    "    return features"
   ]
  },
  {
   "cell_type": "markdown",
   "id": "31705d17-0283-4a0c-9d73-a63aa39ee117",
   "metadata": {},
   "source": [
    "*[retour SOMMAIRE](#toc)*\n",
    "\n",
    "&nbsp;"
   ]
  },
  {
   "cell_type": "markdown",
   "id": "893a94c4-9ab4-4ce5-9045-85e76e5966e1",
   "metadata": {},
   "source": [
    "<a id=\"features\"></a>\n",
    "### Extraction itérative des features des images\n",
    "\n",
    "L'extraction s'effectue image par image selon le processus :\n",
    "- Lecture de chaque fichier de INPUT_DATA_FOLDER: label et image du fruit ;\n",
    "- Codage des labels dans un dictionnaire {\"nom_fruit\": int} ;\n",
    "- Pour chaque fichier image (filename!=''), chargement de l'image et affichage de son nom, format et dimensions ;\n",
    "- Redimensionnement de l'image à la dimension d'entrée du modèle ;\n",
    "- Création d'un dataframe contenant le label de l'image ;\n",
    "- Création d'un dataframe contenant le vecteur des features de l'image ;\n",
    "- Concaténation progressive dans un dataframe y (labels) et un dataframe X (features).\n",
    "\n",
    "En mode DEBUG, ce processus se limite à 'max_img' images et 'max_feat' features."
   ]
  },
  {
   "cell_type": "code",
   "execution_count": 6,
   "id": "ec53f257-7084-453a-aab4-d5850b464e47",
   "metadata": {},
   "outputs": [
    {
     "name": "stdout",
     "output_type": "stream",
     "text": [
      "Lecture des images et extraction des features avec le CNN 'EfficientNetB0':\n",
      "Corn: 0_100.jpg, JPEG, (100, 100), RGB\n",
      "1/1 [==============================] - 1s 841ms/step\n",
      "Corn: 199_100.jpg, JPEG, (100, 100), RGB\n",
      "1/1 [==============================] - 0s 32ms/step\n",
      "Corn: r2_123_100.jpg, JPEG, (100, 100), RGB\n",
      "1/1 [==============================] - 0s 34ms/step\n",
      "Corn: r2_12_100.jpg, JPEG, (100, 100), RGB\n",
      "1/1 [==============================] - 0s 35ms/step\n",
      "Corn: r2_135_100.jpg, JPEG, (100, 100), RGB\n",
      "1/1 [==============================] - 0s 32ms/step\n",
      "Corn: r2_147_100.jpg, JPEG, (100, 100), RGB\n",
      "1/1 [==============================] - 0s 32ms/step\n",
      "Corn: r2_182_100.jpg, JPEG, (100, 100), RGB\n",
      "1/1 [==============================] - 0s 34ms/step\n",
      "Corn: r2_194_100.jpg, JPEG, (100, 100), RGB\n",
      "1/1 [==============================] - 0s 32ms/step\n",
      "Corn: r2_24_100.jpg, JPEG, (100, 100), RGB\n",
      "1/1 [==============================] - 0s 32ms/step\n",
      "Corn: r2_36_100.jpg, JPEG, (100, 100), RGB\n",
      "1/1 [==============================] - 0s 36ms/step\n",
      "Corn: r2_48_100.jpg, JPEG, (100, 100), RGB\n",
      "1/1 [==============================] - 0s 32ms/step\n",
      "Corn: r2_87_100.jpg, JPEG, (100, 100), RGB\n",
      "1/1 [==============================] - 0s 32ms/step\n",
      "Corn: r2_99_100.jpg, JPEG, (100, 100), RGB\n",
      "1/1 [==============================] - 0s 32ms/step\n",
      "Corn: r_0_100.jpg, JPEG, (100, 100), RGB\n",
      "1/1 [==============================] - 0s 32ms/step\n",
      "Corn: r_100_100.jpg, JPEG, (100, 100), RGB\n",
      "1/1 [==============================] - 0s 33ms/step\n",
      "Corn: r_119_100.jpg, JPEG, (100, 100), RGB\n",
      "1/1 [==============================] - 0s 32ms/step\n",
      "Corn: r_129_100.jpg, JPEG, (100, 100), RGB\n",
      "1/1 [==============================] - 0s 32ms/step\n",
      "Corn: r_136_100.jpg, JPEG, (100, 100), RGB\n",
      "1/1 [==============================] - 0s 32ms/step\n",
      "Corn: r_169_100.jpg, JPEG, (100, 100), RGB\n",
      "1/1 [==============================] - 0s 33ms/step\n",
      "Corn: r_175_100.jpg, JPEG, (100, 100), RGB\n",
      "1/1 [==============================] - 0s 32ms/step\n",
      "Corn: r_188_100.jpg, JPEG, (100, 100), RGB\n",
      "1/1 [==============================] - 0s 32ms/step\n",
      "Corn: r_18_100.jpg, JPEG, (100, 100), RGB\n",
      "1/1 [==============================] - 0s 31ms/step\n",
      "Corn: r_29_100.jpg, JPEG, (100, 100), RGB\n",
      "1/1 [==============================] - 0s 32ms/step\n",
      "Corn: r_30_100.jpg, JPEG, (100, 100), RGB\n",
      "1/1 [==============================] - 0s 32ms/step\n",
      "Corn: r_41_100.jpg, JPEG, (100, 100), RGB\n",
      "1/1 [==============================] - 0s 32ms/step\n",
      "Corn: r_42_100.jpg, JPEG, (100, 100), RGB\n",
      "1/1 [==============================] - 0s 32ms/step\n",
      "Corn: r_69_100.jpg, JPEG, (100, 100), RGB\n",
      "1/1 [==============================] - 0s 33ms/step\n",
      "Corn: r_6_100.jpg, JPEG, (100, 100), RGB\n",
      "1/1 [==============================] - 0s 36ms/step\n",
      "Corn: r_75_100.jpg, JPEG, (100, 100), RGB\n",
      "1/1 [==============================] - 0s 33ms/step\n",
      "Corn: r_83_100.jpg, JPEG, (100, 100), RGB\n",
      "1/1 [==============================] - 0s 33ms/step\n",
      "Mandarine: 0_100.jpg, JPEG, (100, 100), RGB\n",
      "1/1 [==============================] - 0s 33ms/step\n",
      "Mandarine: 120_100.jpg, JPEG, (100, 100), RGB\n",
      "1/1 [==============================] - 0s 33ms/step\n",
      "Mandarine: 132_100.jpg, JPEG, (100, 100), RGB\n",
      "1/1 [==============================] - 0s 33ms/step\n",
      "Mandarine: 163_100.jpg, JPEG, (100, 100), RGB\n",
      "1/1 [==============================] - 0s 33ms/step\n",
      "Mandarine: 190_100.jpg, JPEG, (100, 100), RGB\n",
      "1/1 [==============================] - 0s 33ms/step\n",
      "Mandarine: 273_100.jpg, JPEG, (100, 100), RGB\n",
      "1/1 [==============================] - 0s 33ms/step\n",
      "Mandarine: 299_100.jpg, JPEG, (100, 100), RGB\n",
      "1/1 [==============================] - 0s 32ms/step\n",
      "Mandarine: 311_100.jpg, JPEG, (100, 100), RGB\n",
      "1/1 [==============================] - 0s 33ms/step\n",
      "Mandarine: 323_100.jpg, JPEG, (100, 100), RGB\n",
      "1/1 [==============================] - 0s 33ms/step\n",
      "Mandarine: 60_100.jpg, JPEG, (100, 100), RGB\n",
      "1/1 [==============================] - 0s 33ms/step\n",
      "Mandarine: 96_100.jpg, JPEG, (100, 100), RGB\n",
      "1/1 [==============================] - 0s 33ms/step\n",
      "Mandarine: r_122_100.jpg, JPEG, (100, 100), RGB\n",
      "1/1 [==============================] - 0s 34ms/step\n",
      "Mandarine: r_146_100.jpg, JPEG, (100, 100), RGB\n",
      "1/1 [==============================] - 0s 32ms/step\n",
      "Mandarine: r_158_100.jpg, JPEG, (100, 100), RGB\n",
      "1/1 [==============================] - 0s 32ms/step\n",
      "Mandarine: r_170_100.jpg, JPEG, (100, 100), RGB\n",
      "1/1 [==============================] - 0s 32ms/step\n",
      "Mandarine: r_182_100.jpg, JPEG, (100, 100), RGB\n",
      "1/1 [==============================] - 0s 32ms/step\n",
      "Mandarine: r_19_100.jpg, JPEG, (100, 100), RGB\n",
      "1/1 [==============================] - 0s 32ms/step\n",
      "Mandarine: r_206_100.jpg, JPEG, (100, 100), RGB\n",
      "1/1 [==============================] - 0s 33ms/step\n",
      "Mandarine: r_218_100.jpg, JPEG, (100, 100), RGB\n",
      "1/1 [==============================] - 0s 33ms/step\n",
      "Mandarine: r_230_100.jpg, JPEG, (100, 100), RGB\n",
      "1/1 [==============================] - 0s 33ms/step\n",
      "Mandarine: r_242_100.jpg, JPEG, (100, 100), RGB\n",
      "1/1 [==============================] - 0s 33ms/step\n",
      "Mandarine: r_268_100.jpg, JPEG, (100, 100), RGB\n",
      "1/1 [==============================] - 0s 33ms/step\n",
      "Mandarine: r_280_100.jpg, JPEG, (100, 100), RGB\n",
      "1/1 [==============================] - 0s 33ms/step\n",
      "Mandarine: r_292_100.jpg, JPEG, (100, 100), RGB\n",
      "1/1 [==============================] - 0s 33ms/step\n",
      "Mandarine: r_306_100.jpg, JPEG, (100, 100), RGB\n",
      "1/1 [==============================] - 0s 33ms/step\n",
      "Mandarine: r_317_100.jpg, JPEG, (100, 100), RGB\n",
      "1/1 [==============================] - 0s 36ms/step\n",
      "Mandarine: r_31_100.jpg, JPEG, (100, 100), RGB\n",
      "1/1 [==============================] - 0s 32ms/step\n",
      "Mandarine: r_327_100.jpg, JPEG, (100, 100), RGB\n",
      "1/1 [==============================] - 0s 34ms/step\n",
      "Mandarine: r_43_100.jpg, JPEG, (100, 100), RGB\n",
      "1/1 [==============================] - 0s 33ms/step\n",
      "Mandarine: r_7_100.jpg, JPEG, (100, 100), RGB\n",
      "1/1 [==============================] - 0s 32ms/step\n",
      "Raspberry: 0_100.jpg, JPEG, (100, 100), RGB\n",
      "1/1 [==============================] - 0s 33ms/step\n",
      "Raspberry: 118_100.jpg, JPEG, (100, 100), RGB\n",
      "1/1 [==============================] - 0s 33ms/step\n",
      "Raspberry: 11_100.jpg, JPEG, (100, 100), RGB\n",
      "1/1 [==============================] - 0s 33ms/step\n",
      "Raspberry: 130_100.jpg, JPEG, (100, 100), RGB\n",
      "1/1 [==============================] - 0s 33ms/step\n",
      "Raspberry: 142_100.jpg, JPEG, (100, 100), RGB\n",
      "1/1 [==============================] - 0s 32ms/step\n",
      "Raspberry: 166_100.jpg, JPEG, (100, 100), RGB\n",
      "1/1 [==============================] - 0s 33ms/step\n",
      "Raspberry: 178_100.jpg, JPEG, (100, 100), RGB\n",
      "1/1 [==============================] - 0s 32ms/step\n",
      "Raspberry: 190_100.jpg, JPEG, (100, 100), RGB\n",
      "1/1 [==============================] - 0s 33ms/step\n",
      "Raspberry: 23_100.jpg, JPEG, (100, 100), RGB\n",
      "1/1 [==============================] - 0s 33ms/step\n",
      "Raspberry: 250_100.jpg, JPEG, (100, 100), RGB\n",
      "1/1 [==============================] - 0s 33ms/step\n",
      "Raspberry: 262_100.jpg, JPEG, (100, 100), RGB\n",
      "1/1 [==============================] - 0s 33ms/step\n",
      "Raspberry: 274_100.jpg, JPEG, (100, 100), RGB\n",
      "1/1 [==============================] - 0s 32ms/step\n",
      "Raspberry: 286_100.jpg, JPEG, (100, 100), RGB\n",
      "1/1 [==============================] - 0s 32ms/step\n",
      "Raspberry: 310_100.jpg, JPEG, (100, 100), RGB\n",
      "1/1 [==============================] - 0s 33ms/step\n",
      "Raspberry: 322_100.jpg, JPEG, (100, 100), RGB\n",
      "1/1 [==============================] - 0s 34ms/step\n",
      "Raspberry: 35_100.jpg, JPEG, (100, 100), RGB\n",
      "1/1 [==============================] - 0s 32ms/step\n",
      "Raspberry: 59_100.jpg, JPEG, (100, 100), RGB\n",
      "1/1 [==============================] - 0s 32ms/step\n",
      "Raspberry: 71_100.jpg, JPEG, (100, 100), RGB\n",
      "1/1 [==============================] - 0s 31ms/step\n",
      "Raspberry: r_145_100.jpg, JPEG, (100, 100), RGB\n",
      "1/1 [==============================] - 0s 33ms/step\n",
      "Raspberry: r_157_100.jpg, JPEG, (100, 100), RGB\n",
      "1/1 [==============================] - 0s 33ms/step\n",
      "Raspberry: r_169_100.jpg, JPEG, (100, 100), RGB\n",
      "1/1 [==============================] - 0s 34ms/step\n",
      "Raspberry: r_181_100.jpg, JPEG, (100, 100), RGB\n",
      "1/1 [==============================] - 0s 32ms/step\n",
      "Raspberry: r_193_100.jpg, JPEG, (100, 100), RGB\n",
      "1/1 [==============================] - 0s 32ms/step\n",
      "Raspberry: r_222_100.jpg, JPEG, (100, 100), RGB\n",
      "1/1 [==============================] - 0s 33ms/step\n",
      "Raspberry: r_249_100.jpg, JPEG, (100, 100), RGB\n",
      "1/1 [==============================] - 0s 32ms/step\n",
      "Raspberry: r_286_100.jpg, JPEG, (100, 100), RGB\n",
      "1/1 [==============================] - 0s 33ms/step\n",
      "Raspberry: r_327_100.jpg, JPEG, (100, 100), RGB\n",
      "1/1 [==============================] - 0s 31ms/step\n",
      "Raspberry: r_48_100.jpg, JPEG, (100, 100), RGB\n",
      "1/1 [==============================] - 0s 31ms/step\n",
      "Raspberry: r_6_100.jpg, JPEG, (100, 100), RGB\n",
      "1/1 [==============================] - 0s 32ms/step\n",
      "Raspberry: r_84_100.jpg, JPEG, (100, 100), RGB\n",
      "1/1 [==============================] - 0s 42ms/step\n"
     ]
    }
   ],
   "source": [
    "from PIL import Image\n",
    "print(\"Lecture des images et extraction des features avec le CNN 'EfficientNetB0':\")\n",
    "labels = dict()\n",
    "label_count = 0\n",
    "img_count = 0\n",
    "max_img = 10 if DEBUG else n_objects  # remplacer 'n_objects' par une constante selon la capacité du cluster\n",
    "max_feat = 10 if DEBUG else 1280\n",
    "model = get_model_from_EfficientNetB0()\n",
    "\n",
    "for obj in objects['Contents']:\n",
    "    label = obj['Key'].split('/')[-2]\n",
    "    filename = obj['Key'].split('/')[-1]\n",
    "    if filename!='':\n",
    "\n",
    "        # Codage du label\n",
    "        if label not in labels.keys():\n",
    "            labels.update({label: label_count})\n",
    "            label_count += 1\n",
    "\n",
    "        # Lecture et redimensionnement de l'image\n",
    "        file = s3_client.get_object(Bucket=AWS_S3_BUCKET, Key=obj['Key'])\n",
    "        img = Image.open(file['Body'])\n",
    "        print(f\"{label}: {filename}, {img.format}, {img.size}, {img.mode}\")\n",
    "        if img.size != (224, 224):\n",
    "            img = img.resize((224, 224))\n",
    "\n",
    "        # labels et features des images\n",
    "        sdf_label = spark.createDataFrame([(labels[label], )], ['label'])\n",
    "        features = feature_extraction(model, img=img, debug=DEBUG, debug_feat_size=max_feat)\n",
    "        sdf_features = spark.createDataFrame([(features, )], ['features'])\n",
    "        if img_count==0:\n",
    "            y = sdf_label\n",
    "            X = sdf_features\n",
    "            features_size = len(features)\n",
    "        else:\n",
    "            y = y.union(sdf_label)\n",
    "            X = X.union(sdf_features)\n",
    "        img_count += 1\n",
    "    if img_count==max_img: break  # mode debug"
   ]
  },
  {
   "cell_type": "markdown",
   "id": "60376829-e329-4fdd-9c2c-db3f42256ea3",
   "metadata": {},
   "source": [
    "*[retour SOMMAIRE](#toc)*\n",
    "\n",
    "&nbsp;"
   ]
  },
  {
   "cell_type": "markdown",
   "id": "4725777c-73af-493e-bc1a-34d87d8ecfa2",
   "metadata": {},
   "source": [
    "<a id=\"dataset\"></a>\n",
    "### Enregistrement du dataset\n",
    "\n",
    "Sont enregistrés en sortie dans le répertoire \"data_output\" du projet \"ocp8project\" :\n",
    "- Le dictionnaire des labels de fruit au format json:  labels.json ;\n",
    "- Le dataframe des labels du dataset au format parquet: y.parquet ;\n",
    "- Le dataframe des features du dataset au format parquet: X.parquet."
   ]
  },
  {
   "cell_type": "code",
   "execution_count": 7,
   "id": "ab793d54-efbc-4c33-88a3-5f43ec4aec42",
   "metadata": {},
   "outputs": [
    {
     "name": "stdout",
     "output_type": "stream",
     "text": [
      "Sauvegarde du dataset constitué de 90 images de 3 fruits, vectorisées en 1280 features\n",
      "Sauvegarde du dictionnaire des labels dans s3://ocp8project/output_data/labels.json\n"
     ]
    },
    {
     "data": {
      "text/plain": [
       "11273"
      ]
     },
     "execution_count": 7,
     "metadata": {},
     "output_type": "execute_result"
    }
   ],
   "source": [
    "import json\n",
    "print(f\"Sauvegarde du dataset constitué de {img_count} images de {label_count}\"\n",
    "      f\" fruits, vectorisées en {features_size} features\")\n",
    "labels_file = 'labels.json'\n",
    "with open(labels_file, \"w\") as file:\n",
    "    json.dump(labels, file)\n",
    "print(f\"Sauvegarde du dictionnaire des labels dans \"\n",
    "      f\"s3://{AWS_S3_BUCKET}/{OUTPUT_DATA_FOLDER}{labels_file}\")\n",
    "s3_client.upload_file(labels_file, AWS_S3_BUCKET, OUTPUT_DATA_FOLDER+labels_file)\n",
    "\n",
    "if not LOCAL:\n",
    "    print(f\"Sauvegarde du dataset-labels au format '.parquet' dans \"\n",
    "          f\"s3://{AWS_S3_BUCKET}/{OUTPUT_DATA_FOLDER}y.parquet\")\n",
    "    y.write.mode('overwrite').parquet('s3://' + AWS_S3_BUCKET + '/' + OUTPUT_DATA_FOLDER + 'y.parquet')\n",
    "    print(f\"Sauvegarde du dataset-features au format '.parquet' dans \"\n",
    "          f\"s3://{AWS_S3_BUCKET}/{OUTPUT_DATA_FOLDER}X.parquet\")\n",
    "    X.write.mode('overwrite').parquet('s3://' + AWS_S3_BUCKET + '/' + OUTPUT_DATA_FOLDER + 'X.parquet')\n",
    "\n",
    "# Nettoyage mémoire\n",
    "import gc\n",
    "del y, img\n",
    "gc.collect()"
   ]
  },
  {
   "cell_type": "markdown",
   "id": "9977d5dd-ca8d-4284-b48b-e522b26542c5",
   "metadata": {},
   "source": [
    "*[retour SOMMAIRE](#toc)*\n",
    "\n",
    "&nbsp;"
   ]
  },
  {
   "cell_type": "markdown",
   "id": "09b87b7d-9b87-4f97-926f-8f9192fc97a0",
   "metadata": {},
   "source": [
    "<a id=\"standardization\"></a>\n",
    "### Standardisation des features de X\n",
    "\n",
    "Avant de procéder à une réduction de dimension avec PCA, les features sont standardisées et la fonction de mise à l'échelle enregistrée dans le répertoire \"data_output\" du projet \"ocp8project\" avec la fonction 'save' de pyspark."
   ]
  },
  {
   "cell_type": "code",
   "execution_count": 8,
   "id": "9b484c8d-e8d6-47ec-a5f7-9e4bde05f3c2",
   "metadata": {},
   "outputs": [
    {
     "name": "stdout",
     "output_type": "stream",
     "text": [
      "Mise à l'échelle des features avec StandardScaler:\n",
      "Données X mises à l'échelle avec StandardScaler: X:90 lignes * 1 colonne\n"
     ]
    },
    {
     "data": {
      "text/plain": [
       "286"
      ]
     },
     "execution_count": 8,
     "metadata": {},
     "output_type": "execute_result"
    }
   ],
   "source": [
    "from pyspark.ml.feature import StandardScaler\n",
    "print(f\"Mise à l'échelle des features avec StandardScaler:\")\n",
    "scaler = StandardScaler(inputCol=\"features\", outputCol=\"scaledFeatures\").fit(X)\n",
    "X = scaler.transform(X).select('scaledFeatures')\n",
    "print(f\"Données X mises à l'échelle avec StandardScaler: X:{X.count()} lignes * {len(X.columns)} colonne\")\n",
    "\n",
    "# Sauvegarde de scaler et nettoyage mémoire\n",
    "scaler_file = 'std_scaler'\n",
    "if LOCAL:\n",
    "    scaler.write().overwrite().save(scaler_file)\n",
    "else:\n",
    "    print(f\"Sauvegarde du scaler dans s3://{AWS_S3_BUCKET}/{OUTPUT_DATA_FOLDER}{scaler_file}\")\n",
    "    scaler.write().overwrite().save('s3://' + AWS_S3_BUCKET + '/' + OUTPUT_DATA_FOLDER + scaler_file)\n",
    "\n",
    "del scaler\n",
    "gc.collect()"
   ]
  },
  {
   "cell_type": "markdown",
   "id": "4ecdea6f-9517-4e27-a657-3468edc9390f",
   "metadata": {},
   "source": [
    "*[retour SOMMAIRE](#toc)*\n",
    "\n",
    "&nbsp;"
   ]
  },
  {
   "cell_type": "markdown",
   "id": "e23c2253-3068-42fe-8ed8-cce3efc47439",
   "metadata": {},
   "source": [
    "<a id=\"pca\"></a>\n",
    "### Réduction de dimension avec un PCA\n",
    "\n",
    "Le jeu de données X contenant les features est réduit avec un PCA et enregistré dans le répertoire \"data_output\" du projet \"ocp8project\" au format parquet: X_pca.parquet.\n",
    "Le nombre de features résultantes est fixé à 1/10ème du nombre de feature initial, ce qui est largement suffisant pour les 3 * 30 images de ce projet, mais sera à revoir lors d'une mise à l'échelle, en fonction de la variance expliquée.\n",
    "La variance expliquée totale est affichée et son vecteur enregistré pour permettre l'analyse en fonction du nombre d'images et ajuster en conséquence la réduction."
   ]
  },
  {
   "cell_type": "code",
   "execution_count": 9,
   "id": "3748cfb5-fb27-4cc6-916a-e89e5e471247",
   "metadata": {},
   "outputs": [
    {
     "name": "stdout",
     "output_type": "stream",
     "text": [
      "Réduction de dimension de X avec PCA (k=128):\n",
      "Dataset réduit (X):90 lignes * 1 colonne\n"
     ]
    }
   ],
   "source": [
    "# Réduction de dimension de X avec PCA\n",
    "from pyspark.ml.feature import PCA\n",
    "n_features = max(2, max_feat//10) if DEBUG else features_size//10\n",
    "print(f\"Réduction de dimension de X avec PCA (k={n_features}):\")\n",
    "pca = PCA(k=n_features, inputCol='scaledFeatures', outputCol='pcaFeatures').fit(X)\n",
    "X = pca.transform(X).select('pcaFeatures')\n",
    "print(f\"Dataset réduit (X):{X.count()} lignes * {len(X.columns)} colonne\")"
   ]
  },
  {
   "cell_type": "code",
   "execution_count": 10,
   "id": "bcba0507-06a5-45fc-96e0-42cb5b41f6d6",
   "metadata": {},
   "outputs": [
    {
     "data": {
      "text/plain": [
       "237"
      ]
     },
     "execution_count": 10,
     "metadata": {},
     "output_type": "execute_result"
    }
   ],
   "source": [
    "# Écriture de X dans S3\n",
    "if not LOCAL:\n",
    "    print(f\"Sauvegarde du dataset-features réduit dans \"\n",
    "          f\"s3://{AWS_S3_BUCKET}/{OUTPUT_DATA_FOLDER}Xpca.parquet\")\n",
    "    X.write.mode('overwrite').parquet('s3://' + AWS_S3_BUCKET + '/' + OUTPUT_DATA_FOLDER + 'Xpca.parquet')\n",
    "\n",
    "del X\n",
    "gc.collect()"
   ]
  },
  {
   "cell_type": "code",
   "execution_count": 11,
   "id": "b8022a6c-0b31-4227-8caf-b790cb550633",
   "metadata": {},
   "outputs": [
    {
     "name": "stdout",
     "output_type": "stream",
     "text": [
      "Variance expliquée totale: 100.00%\n",
      "Sauvegarde de la variance expliquée dans s3://ocp8project/output_data/explained_var.pkl\n"
     ]
    }
   ],
   "source": [
    "# Variance expliquée\n",
    "import pickle\n",
    "print(f\"Variance expliquée totale: {100*pca.explainedVariance.sum():.2f}%\")\n",
    "explained_var = {'explained_var_vec': pca.explainedVariance,\n",
    "                 'explained_var_vsum': pca.explainedVariance.sum()}\n",
    "explained_var_file = 'explained_var.pkl'\n",
    "\n",
    "with open(explained_var_file, 'wb') as file:\n",
    "    pickle.dump(explained_var, file)\n",
    "print(f\"Sauvegarde de la variance expliquée dans s3://\"\n",
    "      f\"{AWS_S3_BUCKET}/{OUTPUT_DATA_FOLDER}{explained_var_file}\")\n",
    "s3_client.upload_file(explained_var_file, AWS_S3_BUCKET, OUTPUT_DATA_FOLDER+explained_var_file)"
   ]
  },
  {
   "cell_type": "code",
   "execution_count": 12,
   "id": "290a183c-6aa1-4f83-a7c5-d2ab1a2b33e5",
   "metadata": {},
   "outputs": [
    {
     "data": {
      "text/plain": [
       "155"
      ]
     },
     "execution_count": 12,
     "metadata": {},
     "output_type": "execute_result"
    }
   ],
   "source": [
    "# Sauvegarde PCA et nettoyage mémoire\n",
    "pca_file = 'pca'\n",
    "if LOCAL:\n",
    "    pca.write().overwrite().save(pca_file)\n",
    "else:\n",
    "    print(f\"Sauvegarde du PCA dans s3://{AWS_S3_BUCKET}/{OUTPUT_DATA_FOLDER}{pca_file}\")\n",
    "    pca.write().overwrite().save('s3://' + AWS_S3_BUCKET + '/' + OUTPUT_DATA_FOLDER + pca_file)\n",
    "\n",
    "del pca\n",
    "gc.collect()"
   ]
  },
  {
   "cell_type": "code",
   "execution_count": 13,
   "id": "8647c21b-040c-4d17-9853-e1f865dec18f",
   "metadata": {},
   "outputs": [],
   "source": [
    "# Reset spark configuration\n",
    "spark.conf.set(\"spark.sql.execution.arrow.pyspark.enabled\", prev)  # Restaure conf précédente"
   ]
  },
  {
   "cell_type": "markdown",
   "id": "adc73f90-34bb-4f94-8c94-de6ddb6d00b4",
   "metadata": {},
   "source": [
    "*[retour SOMMAIRE](#toc)*\n",
    "\n",
    "&nbsp;"
   ]
  }
 ],
 "metadata": {
  "kernelspec": {
   "display_name": "ocp8",
   "language": "python",
   "name": "ocp8"
  },
  "language_info": {
   "codemirror_mode": {
    "name": "ipython",
    "version": 3
   },
   "file_extension": ".py",
   "mimetype": "text/x-python",
   "name": "python",
   "nbconvert_exporter": "python",
   "pygments_lexer": "ipython3",
   "version": "3.9.13"
  }
 },
 "nbformat": 4,
 "nbformat_minor": 5
}
